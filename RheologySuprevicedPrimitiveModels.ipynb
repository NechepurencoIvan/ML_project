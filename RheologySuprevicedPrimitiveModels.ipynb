{
  "nbformat": 4,
  "nbformat_minor": 0,
  "metadata": {
    "colab": {
      "name": "RheologySuprevicedPrimitiveModels.ipynb",
      "provenance": [],
      "collapsed_sections": []
    },
    "kernelspec": {
      "name": "python3",
      "display_name": "Python 3"
    },
    "language_info": {
      "name": "python"
    },
    "accelerator": "GPU"
  },
  "cells": [
    {
      "cell_type": "code",
      "metadata": {
        "id": "2vtGPOHfQTJP"
      },
      "source": [
        "!pip install segmentation_models_pytorch\n",
        "!wget https://raw.githubusercontent.com/johschmidt42/PyTorch-2D-3D-UNet-Tutorial/master/trainer.py"
      ],
      "execution_count": null,
      "outputs": []
    },
    {
      "cell_type": "code",
      "metadata": {
        "id": "pIoXrhtCVaEd",
        "colab": {
          "base_uri": "https://localhost:8080/"
        },
        "outputId": "f1cab89d-c5dc-4d0a-962a-81fa6423dcb5"
      },
      "source": [
        "! git clone https://github.com/HSE-LAMBDA/RheologyReconstruction.git"
      ],
      "execution_count": 3,
      "outputs": [
        {
          "output_type": "stream",
          "text": [
            "Cloning into 'RheologyReconstruction'...\n",
            "remote: Enumerating objects: 461, done.\u001b[K\n",
            "remote: Counting objects: 100% (461/461), done.\u001b[K\n",
            "remote: Compressing objects: 100% (312/312), done.\u001b[K\n",
            "remote: Total 461 (delta 218), reused 323 (delta 135), pack-reused 0\u001b[K\n",
            "Receiving objects: 100% (461/461), 19.30 MiB | 17.71 MiB/s, done.\n",
            "Resolving deltas: 100% (218/218), done.\n"
          ],
          "name": "stdout"
        }
      ]
    },
    {
      "cell_type": "code",
      "metadata": {
        "id": "vcTKkkfRvVnP"
      },
      "source": [
        "! pip install dvc\n",
        "! pip install 'dvc[azure]'"
      ],
      "execution_count": null,
      "outputs": []
    },
    {
      "cell_type": "code",
      "metadata": {
        "id": "5nPEuhTMvlbk"
      },
      "source": [
        "!cd RheologyReconstruction/datasets/ && dvc pull heterogeneity.tar.xz.dvc"
      ],
      "execution_count": null,
      "outputs": []
    },
    {
      "cell_type": "code",
      "metadata": {
        "id": "5AEBsoalyDvt"
      },
      "source": [
        "!cd RheologyReconstruction/datasets/ && tar -xvf heterogeneity.tar.xz"
      ],
      "execution_count": null,
      "outputs": []
    },
    {
      "cell_type": "code",
      "metadata": {
        "id": "zKQ17s2Zo7fO"
      },
      "source": [
        ""
      ],
      "execution_count": null,
      "outputs": []
    },
    {
      "cell_type": "code",
      "metadata": {
        "colab": {
          "base_uri": "https://localhost:8080/"
        },
        "id": "4umWaCYHo7mV",
        "outputId": "93dcac2c-b27f-4e97-d12b-844f25386979"
      },
      "source": [
        "!rm *.py\n",
        "!ls"
      ],
      "execution_count": 39,
      "outputs": [
        {
          "output_type": "stream",
          "text": [
            "datasets.py.1\t  no_skip_unet.py.1  RheologyReconstruction\n",
            "my_trainers.py.1  __pycache__\t     sample_data\n"
          ],
          "name": "stdout"
        }
      ]
    },
    {
      "cell_type": "code",
      "metadata": {
        "id": "6W9jQkzmjkHF"
      },
      "source": [
        "!wget https://raw.githubusercontent.com/NechepurencoIvan/ML_project/main/datasets.py\n",
        "!wget https://raw.githubusercontent.com/NechepurencoIvan/ML_project/main/my_trainers.py\n",
        "!wget https://raw.githubusercontent.com/NechepurencoIvan/ML_project/main/no_skip_unet.py\n",
        "!wget https://raw.githubusercontent.com/johschmidt42/PyTorch-2D-3D-UNet-Tutorial/master/trainer.py"
      ],
      "execution_count": null,
      "outputs": []
    },
    {
      "cell_type": "code",
      "metadata": {
        "id": "douq7k8Y1e2s"
      },
      "source": [
        "!cat datasets.py"
      ],
      "execution_count": null,
      "outputs": []
    },
    {
      "cell_type": "code",
      "metadata": {
        "id": "AplkLGezo2TM"
      },
      "source": [
        "from datasets import *\n",
        "from my_trainers import *\n",
        "from no_skip_unet import *\n",
        "from trainer import Trainer"
      ],
      "execution_count": 42,
      "outputs": []
    },
    {
      "cell_type": "code",
      "metadata": {
        "id": "ClQ3aOZNUsMP"
      },
      "source": [
        "import pickle\n",
        "import os\n",
        "import numpy as np\n",
        "import matplotlib.pyplot as plt"
      ],
      "execution_count": 43,
      "outputs": []
    },
    {
      "cell_type": "code",
      "metadata": {
        "id": "sJMMeMMjRKtQ"
      },
      "source": [
        "from numpy.fft import fft2, fftshift, ifftshift\n",
        "\n",
        "def transform_seismogram(seismogram):\n",
        "  seismogram_transformed = []\n",
        "  for i in range(2):\n",
        "      transformed = fftshift(fft2(ifftshift(seismogram[i])))\n",
        "      seismogram_transformed.append(transformed.real)\n",
        "      seismogram_transformed.append(transformed.imag)\n",
        "  return np.array(seismogram_transformed)\n",
        "#seismograms_transformed = np.array([transform_seismogram(seismogram) for seismogram in seismograms])\n",
        "#seismograms_transformed.shape"
      ],
      "execution_count": 44,
      "outputs": []
    },
    {
      "cell_type": "code",
      "metadata": {
        "id": "_s3veMkAdIeE"
      },
      "source": [
        "import segmentation_models_pytorch as smp\n",
        "from segmentation_models_pytorch.encoders import get_preprocessing_fn\n",
        "import torch\n",
        "from torch import nn"
      ],
      "execution_count": 45,
      "outputs": []
    },
    {
      "cell_type": "code",
      "metadata": {
        "id": "II1pkKDimAuU"
      },
      "source": [
        "class View(nn.Module):\n",
        "    def __init__(self, shape):\n",
        "        super().__init__()\n",
        "        self.shape = shape\n",
        "\n",
        "    def __repr__(self):\n",
        "        return f'View{self.shape}'\n",
        "\n",
        "    def forward(self, input):\n",
        "        '''\n",
        "        Reshapes the input according to the shape saved in the view data structure.\n",
        "        '''\n",
        "        batch_size = input.size(0)\n",
        "        shape = (batch_size, *self.shape)\n",
        "        out = input.view(shape) # [:, 1] # torch.gather(, 1, torch.tensor([0]))\n",
        "        return out"
      ],
      "execution_count": 46,
      "outputs": []
    },
    {
      "cell_type": "code",
      "metadata": {
        "colab": {
          "base_uri": "https://localhost:8080/",
          "height": 35
        },
        "id": "__heG-jngrib",
        "outputId": "22bf273a-9208-4750-c329-3effb0b2d75f"
      },
      "source": [
        "device = 'cuda' if torch.cuda.is_available() else 'cpu'\n",
        "device"
      ],
      "execution_count": 47,
      "outputs": [
        {
          "output_type": "execute_result",
          "data": {
            "application/vnd.google.colaboratory.intrinsic+json": {
              "type": "string"
            },
            "text/plain": [
              "'cpu'"
            ]
          },
          "metadata": {
            "tags": []
          },
          "execution_count": 47
        }
      ]
    },
    {
      "cell_type": "code",
      "metadata": {
        "id": "dMgEl3QMoz3X"
      },
      "source": [
        "import os\n",
        "from numpy.fft import fft2, fftshift, ifftshift\n",
        "from torch.utils.data import Dataset\n",
        "import re"
      ],
      "execution_count": 48,
      "outputs": []
    },
    {
      "cell_type": "code",
      "metadata": {
        "id": "-X9-roH6k8Sa"
      },
      "source": [
        "#from trainer import Trainer"
      ],
      "execution_count": 49,
      "outputs": []
    },
    {
      "cell_type": "code",
      "metadata": {
        "id": "mlc67WWQzl4N"
      },
      "source": [
        ""
      ],
      "execution_count": 49,
      "outputs": []
    },
    {
      "cell_type": "code",
      "metadata": {
        "id": "7_wnAL9m4TIT"
      },
      "source": [
        "ae_bath_size = 20\n",
        "a_training_dataset = AutoencodeDataset('RheologyReconstruction/datasets/heterogeneity/',(0, 900))\n",
        "a_training_dataloader = torch.utils.data.DataLoader(\n",
        "    dataset=a_training_dataset, batch_size=ae_bath_size, shuffle=True)\n",
        "a_val_dataset = AutoencodeDataset('RheologyReconstruction/datasets/heterogeneity/',(900, 1000))\n",
        "a_val_dataloader = torch.utils.data.DataLoader(\n",
        "    dataset=a_val_dataset, batch_size=ae_bath_size, shuffle=True)"
      ],
      "execution_count": 50,
      "outputs": []
    },
    {
      "cell_type": "code",
      "metadata": {
        "id": "Egz0F64Q7zz1"
      },
      "source": [
        "ae_model = nn.Sequential(\n",
        "    smp.Unet(\n",
        "        encoder_name=\"resnet18\",  \n",
        "        in_channels=4,      \n",
        "        classes=4,\n",
        "    ),\n",
        "    torch.nn.Flatten()\n",
        ")\n",
        "\n",
        "if torch.cuda.is_available():\n",
        "    ae_model.cuda()"
      ],
      "execution_count": 51,
      "outputs": []
    },
    {
      "cell_type": "code",
      "metadata": {
        "id": "HbXyVGg95XA-"
      },
      "source": [
        "loss = [torch.nn.MSELoss(), torch.nn.L1Loss()][1]\n",
        "ae_criterion = loss #\n",
        "ae_optimizer = torch.optim.Adam(ae_model.parameters(), lr=1e-4)\n",
        "ae_loss_fn = loss # torch.nn.L1Loss()"
      ],
      "execution_count": 52,
      "outputs": []
    },
    {
      "cell_type": "code",
      "metadata": {
        "id": "mgyxxpcp42Vo"
      },
      "source": [
        "ae_trainer = Trainer(model=ae_model,\n",
        "                  device=device,\n",
        "                  criterion=ae_criterion,\n",
        "                  optimizer=ae_optimizer,\n",
        "                  training_DataLoader=a_training_dataloader,\n",
        "                  validation_DataLoader=a_val_dataloader,\n",
        "                  lr_scheduler=None,\n",
        "                  epochs=100,\n",
        "                  epoch=0,\n",
        "                  notebook=True)"
      ],
      "execution_count": 53,
      "outputs": []
    },
    {
      "cell_type": "code",
      "metadata": {
        "id": "XF_WZoUt42dK"
      },
      "source": [
        "ae_history = ae_trainer.run_trainer()"
      ],
      "execution_count": null,
      "outputs": []
    },
    {
      "cell_type": "code",
      "metadata": {
        "id": "bhhvirPR0cKC"
      },
      "source": [
        "#import torch"
      ],
      "execution_count": 57,
      "outputs": []
    },
    {
      "cell_type": "code",
      "metadata": {
        "id": "Aq2yMOiH5WR4"
      },
      "source": [
        ""
      ],
      "execution_count": null,
      "outputs": []
    },
    {
      "cell_type": "markdown",
      "metadata": {
        "id": "9q4jRyLeF899"
      },
      "source": [
        "Теперь пробуем тренировать на основном задании"
      ]
    },
    {
      "cell_type": "code",
      "metadata": {
        "id": "oELzH4q79vK_"
      },
      "source": [
        "bath_size = 10\n",
        "do_transform = False\n",
        "training_dataset = SeismogramDataset('RheologyReconstruction/datasets/heterogeneity/',(0, 4000), do_transform=do_transform)\n",
        "training_dataloader = torch.utils.data.DataLoader(\n",
        "    dataset=training_dataset, batch_size=bath_size, shuffle=True)\n",
        "val_dataset = SeismogramDataset('RheologyReconstruction/datasets/heterogeneity/',(4000, 4500), do_transform=do_transform)\n",
        "val_dataloader = torch.utils.data.DataLoader(\n",
        "    dataset=val_dataset, batch_size=bath_size, shuffle=True)\n",
        "test_dataset = SeismogramDataset('RheologyReconstruction/datasets/heterogeneity/',(4500, 5000), do_transform=do_transform)\n",
        "test_dataloader = torch.utils.data.DataLoader(\n",
        "    dataset=test_dataset, batch_size=500, shuffle=False)"
      ],
      "execution_count": 58,
      "outputs": []
    },
    {
      "cell_type": "code",
      "metadata": {
        "id": "snDGoUEtS36H"
      },
      "source": [
        ""
      ],
      "execution_count": 58,
      "outputs": []
    },
    {
      "cell_type": "code",
      "metadata": {
        "id": "jEHVyNzKAdO0"
      },
      "source": [
        "in_channels = next(iter(training_dataloader))[0].shape[1]\n",
        "encoder_depth = 5\n",
        "in_channels"
      ],
      "execution_count": null,
      "outputs": []
    },
    {
      "cell_type": "code",
      "metadata": {
        "id": "jpS2Sa90BkcM"
      },
      "source": [
        "model = MyUnet(\n",
        "      encoder_name=\"resnet34\",  \n",
        "      encoder_depth = 5,\n",
        "      in_channels=in_channels,      \n",
        "      classes=2,\n",
        "  )"
      ],
      "execution_count": null,
      "outputs": []
    },
    {
      "cell_type": "code",
      "metadata": {
        "id": "vLHeJ2IuTPaI"
      },
      "source": [
        "\"\"\"\n",
        "model = nn.Sequential(\n",
        "    smp.Unet(\n",
        "        encoder_name=\"resnet18\",  \n",
        "        in_channels=in_channels,      \n",
        "        classes=2,\n",
        "    ),\n",
        ")\n",
        "\"\"\"\n",
        "None"
      ],
      "execution_count": 61,
      "outputs": []
    },
    {
      "cell_type": "code",
      "metadata": {
        "id": "4RzPDHQtHBb5"
      },
      "source": [
        "if torch.cuda.is_available():\n",
        "    model.cuda()\n",
        "\n",
        "criterion = torch.nn.CrossEntropyLoss()\n",
        "optimizer = torch.optim.Adam(model.parameters(), lr=1e-4)\n",
        "loss_fn = torch.nn.CrossEntropyLoss()\n",
        "trainer = MyTrainer(model=model,\n",
        "                  device=device,\n",
        "                  criterion=criterion,\n",
        "                  optimizer=optimizer,\n",
        "                  training_DataLoader=training_dataloader,\n",
        "                  validation_DataLoader=val_dataloader,\n",
        "                  lr_scheduler=None,\n",
        "                  epochs=120,\n",
        "                  epoch=0,\n",
        "                  notebook=True)\n",
        "history = trainer.run_trainer()"
      ],
      "execution_count": null,
      "outputs": []
    },
    {
      "cell_type": "code",
      "metadata": {
        "id": "G2E0Hkd3LRmE",
        "colab": {
          "base_uri": "https://localhost:8080/",
          "height": 285
        },
        "outputId": "f08a2e66-9e63-4f1f-e6c4-945c4d7eab17"
      },
      "source": [
        "plt.plot(history['val_IOU'])"
      ],
      "execution_count": 334,
      "outputs": [
        {
          "output_type": "execute_result",
          "data": {
            "text/plain": [
              "[<matplotlib.lines.Line2D at 0x7f2efa2f4410>]"
            ]
          },
          "metadata": {
            "tags": []
          },
          "execution_count": 334
        },
        {
          "output_type": "display_data",
          "data": {
            "image/png": "[encoded data removed]",
            "text/plain": [
              "<Figure size 432x288 with 1 Axes>"
            ]
          },
          "metadata": {
            "tags": [],
            "needs_background": "light"
          }
        }
      ]
    },
    {
      "cell_type": "code",
      "metadata": {
        "colab": {
          "base_uri": "https://localhost:8080/",
          "height": 282
        },
        "id": "D72shG5ze51E",
        "outputId": "f70edf85-5ed2-4983-90f7-9a3a08f2596a"
      },
      "source": [
        "plt.title(\"\")\n",
        "plt.plot(history['train_loss'])\n",
        "plt.plot(history['val_loss'])"
      ],
      "execution_count": 335,
      "outputs": [
        {
          "output_type": "execute_result",
          "data": {
            "text/plain": [
              "[<matplotlib.lines.Line2D at 0x7f2efa651810>]"
            ]
          },
          "metadata": {
            "tags": []
          },
          "execution_count": 335
        },
        {
          "output_type": "display_data",
          "data": {
            "image/png": "[encoded data removed]",
            "text/plain": [
              "<Figure size 432x288 with 1 Axes>"
            ]
          },
          "metadata": {
            "tags": [],
            "needs_background": "light"
          }
        }
      ]
    },
    {
      "cell_type": "code",
      "metadata": {
        "colab": {
          "base_uri": "https://localhost:8080/"
        },
        "id": "K_B5PkzDKvxi",
        "outputId": "395bc705-9531-4511-b7c0-2aba285fe69f"
      },
      "source": [
        "history['val_loss'][-1]"
      ],
      "execution_count": 336,
      "outputs": [
        {
          "output_type": "execute_result",
          "data": {
            "text/plain": [
              "0.017829289510846138"
            ]
          },
          "metadata": {
            "tags": []
          },
          "execution_count": 336
        }
      ]
    },
    {
      "cell_type": "code",
      "metadata": {
        "colab": {
          "base_uri": "https://localhost:8080/"
        },
        "id": "afkGw06G5ywe",
        "outputId": "db64c282-89a6-4e66-aeae-e99e8fa6ce2a"
      },
      "source": [
        "history['val_IOU'][-1]"
      ],
      "execution_count": 337,
      "outputs": [
        {
          "output_type": "execute_result",
          "data": {
            "text/plain": [
              "0.9394974207878113"
            ]
          },
          "metadata": {
            "tags": []
          },
          "execution_count": 337
        }
      ]
    },
    {
      "cell_type": "code",
      "metadata": {
        "id": "BgBXNAO1LEwh",
        "colab": {
          "base_uri": "https://localhost:8080/"
        },
        "outputId": "7fe14c14-1478-471a-eed0-4a3a0ee90094"
      },
      "source": [
        "from google.colab import drive\n",
        "drive.mount('/content/drive')"
      ],
      "execution_count": 276,
      "outputs": [
        {
          "output_type": "stream",
          "text": [
            "Mounted at /content/drive\n"
          ],
          "name": "stdout"
        }
      ]
    },
    {
      "cell_type": "code",
      "metadata": {
        "id": "-i3z5KAk60R_"
      },
      "source": [
        "!mkdir /content/drive/MyDrive/saved_train_results"
      ],
      "execution_count": 290,
      "outputs": []
    },
    {
      "cell_type": "code",
      "metadata": {
        "id": "VUYLkMqZfFJd"
      },
      "source": [
        "torch.save(model, \"/content/drive/MyDrive/saved_ml_models/UNet_no_skip_without_fourrier\")"
      ],
      "execution_count": 338,
      "outputs": []
    },
    {
      "cell_type": "code",
      "metadata": {
        "id": "-leX5jhOfFND"
      },
      "source": [
        "with open(\"/content/drive/MyDrive/saved_train_results/UNet_no_skip_without_fourrier.pckl\", \"wb\") as f:\n",
        "  pickle.dump(history, f)"
      ],
      "execution_count": 340,
      "outputs": []
    },
    {
      "cell_type": "code",
      "metadata": {
        "id": "5m21RNDz6xtu"
      },
      "source": [
        "with open(\"/content/drive/MyDrive/saved_train_results/UNet_without_fourrier.pckl\", \"rb\") as f:\n",
        "  history2 = pickle.load(f)"
      ],
      "execution_count": 342,
      "outputs": []
    },
    {
      "cell_type": "code",
      "metadata": {
        "id": "3-7sb_nV6xxC"
      },
      "source": [
        ""
      ],
      "execution_count": 342,
      "outputs": []
    },
    {
      "cell_type": "code",
      "metadata": {
        "id": "ZDFZjkP1LE4p",
        "colab": {
          "base_uri": "https://localhost:8080/",
          "height": 298
        },
        "outputId": "1bf3f9de-d411-483e-964d-604d9d8262a6"
      },
      "source": [
        "plt.title('Validation IOU')\n",
        "plt.plot(history['val_IOU'], label='resnet34')\n",
        "plt.plot(history2['val_IOU'], label='resnet18')\n",
        "plt.legend()"
      ],
      "execution_count": 346,
      "outputs": [
        {
          "output_type": "execute_result",
          "data": {
            "text/plain": [
              "<matplotlib.legend.Legend at 0x7f2efa2c3e50>"
            ]
          },
          "metadata": {
            "tags": []
          },
          "execution_count": 346
        },
        {
          "output_type": "display_data",
          "data": {
            "image/png": "[encoded data removed]",
            "text/plain": [
              "<Figure size 432x288 with 1 Axes>"
            ]
          },
          "metadata": {
            "tags": [],
            "needs_background": "light"
          }
        }
      ]
    },
    {
      "cell_type": "markdown",
      "metadata": {
        "id": "GJlzU1ANi21Y"
      },
      "source": [
        "Рисуем результаты"
      ]
    },
    {
      "cell_type": "code",
      "metadata": {
        "id": "DAVgvBTbVjQP"
      },
      "source": [
        "batch = next(iter(test_dataloader))\n",
        "\n",
        "proba = torch.nn.Softmax()(model(batch[0].cuda())).cpu().detach().numpy()[:,1]\n",
        "proba.shape"
      ],
      "execution_count": null,
      "outputs": []
    },
    {
      "cell_type": "code",
      "metadata": {
        "id": "rz4Lva4uVjdO"
      },
      "source": [
        "ground = batch[1].cpu().numpy()"
      ],
      "execution_count": 263,
      "outputs": []
    },
    {
      "cell_type": "code",
      "metadata": {
        "id": "DUrEBF35Vjgu",
        "colab": {
          "base_uri": "https://localhost:8080/"
        },
        "outputId": "8e74bc8f-e10b-4b93-b6b2-765ffd00b9e7"
      },
      "source": [
        "pred = proba >= 0.5\n",
        "print(f\"Test accuracy: {np.mean(pred == ground )}\")"
      ],
      "execution_count": 264,
      "outputs": [
        {
          "output_type": "stream",
          "text": [
            "Test accuracy: 0.9908951416015624\n"
          ],
          "name": "stdout"
        }
      ]
    },
    {
      "cell_type": "code",
      "metadata": {
        "colab": {
          "base_uri": "https://localhost:8080/"
        },
        "id": "i3jh3bFmo_A8",
        "outputId": "b5bfffa6-37ed-4562-d28c-bf01991fb7cc"
      },
      "source": [
        "CE = torch.nn.CrossEntropyLoss()(model(batch[0][:200].cuda()), batch[1][:200].cuda())\n",
        "print(f\"Tesr CE: {CE.item()}\")"
      ],
      "execution_count": 275,
      "outputs": [
        {
          "output_type": "stream",
          "text": [
            "Tesr CE: 0.02803993411362171\n"
          ],
          "name": "stdout"
        }
      ]
    },
    {
      "cell_type": "code",
      "metadata": {
        "id": "PUpd8_i_WfB_",
        "colab": {
          "base_uri": "https://localhost:8080/"
        },
        "outputId": "463169be-718d-4dc7-988a-3e84b79af7f7"
      },
      "source": [
        "IOU = np.sum(pred * ground) / np.sum((pred + ground) > 0)\n",
        "print(f\"Test IOU: {IOU}\")"
      ],
      "execution_count": 265,
      "outputs": [
        {
          "output_type": "stream",
          "text": [
            "Test IOU: 0.8874734286908283\n"
          ],
          "name": "stdout"
        }
      ]
    },
    {
      "cell_type": "code",
      "metadata": {
        "id": "73hWpZqj7Zb_",
        "colab": {
          "base_uri": "https://localhost:8080/",
          "height": 1000
        },
        "outputId": "8c7dfa9f-5e67-4a9f-9a63-dd07474947d5"
      },
      "source": [
        "fig, ax = plt.subplots(10, 3, sharey=True, sharex=True, figsize=(7, 20))\n",
        "fig.patch.set_visible(False)\n",
        "\n",
        "for i, (pr, gt) in enumerate(zip(pred[:10], ground)):\n",
        "  ax[i][0].imshow(pr) #.shape\n",
        "  ax[i][1].imshow(gt)\n",
        "  ax[i][2].imshow(gt - pr)"
      ],
      "execution_count": 277,
      "outputs": [
        {
          "output_type": "display_data",
          "data": {
            "image/png": "[encoded data removed]",
            "text/plain": [
              "<Figure size 504x1440 with 30 Axes>"
            ]
          },
          "metadata": {
            "tags": [],
            "needs_background": "light"
          }
        }
      ]
    },
    {
      "cell_type": "code",
      "metadata": {
        "id": "dDCH8cZbpz_8"
      },
      "source": [
        ""
      ],
      "execution_count": null,
      "outputs": []
    }
  ]
}